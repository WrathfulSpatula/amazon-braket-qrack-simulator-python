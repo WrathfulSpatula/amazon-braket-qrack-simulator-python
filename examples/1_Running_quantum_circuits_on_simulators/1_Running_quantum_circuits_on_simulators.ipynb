{
 "cells": [
  {
   "cell_type": "markdown",
   "metadata": {},
   "source": [
    "# Preparing a GHZ state and running the circuit on simulators"
   ]
  },
  {
   "cell_type": "code",
   "execution_count": 1,
   "metadata": {
    "ExecuteTime": {
     "end_time": "2024-02-16T22:29:36.249431Z",
     "start_time": "2024-02-16T22:29:36.222716Z"
    }
   },
   "outputs": [],
   "source": [
    "# Use Braket SDK Cost Tracking to estimate the cost to run this example\n",
    "from braket.tracking import Tracker\n",
    "t = Tracker().start()"
   ]
  },
  {
   "cell_type": "markdown",
   "metadata": {},
   "source": [
    "This hello-world tutorial prepares a paradigmatic example for a multi-qubit entangled state, the so-called [GHZ state](https://en.wikipedia.org/wiki/Greenberger%E2%80%93Horne%E2%80%93Zeilinger_state) (named after the three physicists Greenberger, Horne and Zeilinger). The GHZ state is extremely non-classical, and therefore very sensitive to decoherence. Therefore, it is often used as a performance benchmark for today's hardware. Moreover, in many quantum information protocols it is used as a resource for quantum error correction, quantum communication and quantum metrology. \n",
    "\n",
    "Qrack and PyQrack offer several choices of \"stackable layers\" of classical simulation algorithms, all available as a local simulator and \"bring-your-own-container\" on AWS. You can seamlessly swap between different \"layer stacks\" without any modifications to the circuit definition, as shown below, by just passing PyQrack `args` and `kwargs` through the `run()` interface. For additional information about PyQrack, see the [PyQrack API Reference](https://pyqrack.readthedocs.io/en/latest/autoapi/pyqrack/qrack_simulator/index.html)."
   ]
  },
  {
   "cell_type": "code",
   "execution_count": 2,
   "metadata": {
    "ExecuteTime": {
     "end_time": "2024-02-16T22:29:37.444253Z",
     "start_time": "2024-02-16T22:29:36.250801Z"
    }
   },
   "outputs": [],
   "source": [
    "# general imports\n",
    "import matplotlib.pyplot as plt\n",
    "# magic word for producing visualizations in notebook\n",
    "%matplotlib inline\n",
    "import numpy as np\n",
    "\n",
    "# AWS imports: Import Braket SDK modules\n",
    "from braket.circuits import Circuit, Observable\n",
    "from braket.devices import Devices, LocalSimulator\n",
    "from braket.aws import AwsDevice"
   ]
  },
  {
   "cell_type": "markdown",
   "metadata": {},
   "source": [
    "### Problem: Prepare a GHZ State"
   ]
  },
  {
   "cell_type": "markdown",
   "metadata": {},
   "source": [
    "Goal: Prepare an $N$-qubit GHZ state: \n",
    "$$\\left|0,0, ...\\right> \\rightarrow \\left|\\mathrm{GHZ}\\right> = \\frac{1}{\\sqrt{2}}\\left(\\left|0,0, ...\\right> + \\left|1,1, ...\\right>\\right).$$"
   ]
  },
  {
   "cell_type": "markdown",
   "metadata": {},
   "source": [
    "The GHZ state is a quantum superposition of all subsystems being in state 0 with all of them being in state 1 (as often discussed in the famous Gedanken experiment of a cat being dead and alive at the same time). The GHZ state is a maximally entangled quantum state. \n",
    "\n",
    "To prepare this state, build and run the following circuit using a single-qubit Hadamard gate (denoted as H) acting on the first qubit followed by a series of two-qubit CNOT gates: "
   ]
  },
  {
   "attachments": {},
   "cell_type": "markdown",
   "metadata": {},
   "source": [
    "<div align=\"center\">\n",
    "<img src=\"circuit.png\" width=\"300\"/>\n",
    "</div>"
   ]
  },
  {
   "cell_type": "markdown",
   "metadata": {},
   "source": [
    "### Setup Circuit"
   ]
  },
  {
   "cell_type": "code",
   "execution_count": 3,
   "metadata": {
    "ExecuteTime": {
     "end_time": "2024-02-16T22:29:37.447174Z",
     "start_time": "2024-02-16T22:29:37.444937Z"
    }
   },
   "outputs": [],
   "source": [
    "# function to build a GHZ state\n",
    "def ghz_circuit(n_qubits):\n",
    "    \"\"\"\n",
    "    function to return a GHZ circuit ansatz\n",
    "    input: number of qubits\n",
    "    \"\"\"\n",
    "\n",
    "    # instantiate circuit object\n",
    "    circuit = Circuit()\n",
    "    \n",
    "    # add Hadamard gate on first qubit\n",
    "    circuit.h(0)\n",
    "\n",
    "    # apply series of CNOT gates\n",
    "    for ii in range(0, n_qubits-1):\n",
    "        circuit.cnot(control=ii, target=ii+1)\n",
    "\n",
    "    return circuit"
   ]
  },
  {
   "cell_type": "code",
   "execution_count": 4,
   "metadata": {
    "ExecuteTime": {
     "end_time": "2024-02-16T22:29:37.451554Z",
     "start_time": "2024-02-16T22:29:37.449007Z"
    }
   },
   "outputs": [],
   "source": [
    "# define circuit\n",
    "n_qubits = 10\n",
    "ghz = ghz_circuit(n_qubits)"
   ]
  },
  {
   "cell_type": "code",
   "execution_count": 5,
   "metadata": {
    "ExecuteTime": {
     "end_time": "2024-02-16T22:29:37.454702Z",
     "start_time": "2024-02-16T22:29:37.452320Z"
    }
   },
   "outputs": [
    {
     "name": "stdout",
     "output_type": "stream",
     "text": [
      "T  : |0|1|2|3|4|5|6|7|8|9|\n",
      "                          \n",
      "q0 : -H-C-----------------\n",
      "        |                 \n",
      "q1 : ---X-C---------------\n",
      "          |               \n",
      "q2 : -----X-C-------------\n",
      "            |             \n",
      "q3 : -------X-C-----------\n",
      "              |           \n",
      "q4 : ---------X-C---------\n",
      "                |         \n",
      "q5 : -----------X-C-------\n",
      "                  |       \n",
      "q6 : -------------X-C-----\n",
      "                    |     \n",
      "q7 : ---------------X-C---\n",
      "                      |   \n",
      "q8 : -----------------X-C-\n",
      "                        | \n",
      "q9 : -------------------X-\n",
      "\n",
      "T  : |0|1|2|3|4|5|6|7|8|9|\n"
     ]
    }
   ],
   "source": [
    "# print circuit\n",
    "print(ghz)"
   ]
  },
  {
   "cell_type": "markdown",
   "metadata": {},
   "source": [
    "### Default Optimal Simulator"
   ]
  },
  {
   "cell_type": "markdown",
   "metadata": {},
   "source": [
    "First, the circuit is run locally using the default optimal simulator."
   ]
  },
  {
   "cell_type": "code",
   "execution_count": 6,
   "metadata": {
    "ExecuteTime": {
     "end_time": "2024-02-16T22:29:37.477897Z",
     "start_time": "2024-02-16T22:29:37.455381Z"
    }
   },
   "outputs": [],
   "source": [
    "# set up device: Default Local Qrack Simulator\n",
    "device = LocalSimulator(backend=\"qrack\")"
   ]
  },
  {
   "cell_type": "code",
   "execution_count": 7,
   "metadata": {
    "ExecuteTime": {
     "end_time": "2024-02-16T22:29:37.507644Z",
     "start_time": "2024-02-16T22:29:37.478745Z"
    }
   },
   "outputs": [
    {
     "name": "stdout",
     "output_type": "stream",
     "text": [
      "Device #0, Loaded binary from: /home/iamu/.qrack/qrack_ocl_dev_NVIDIA_GeForce_RTX_3080_Laptop_GPU.ir\n",
      "Counter({'0000000000': 511, '1111111111': 489})\n"
     ]
    }
   ],
   "source": [
    "# run circuit\n",
    "result = device.run(ghz, shots=1000).result()\n",
    "# get measurement shots\n",
    "counts = result.measurement_counts\n",
    "# print counts\n",
    "print(counts)"
   ]
  },
  {
   "cell_type": "code",
   "execution_count": 8,
   "metadata": {
    "ExecuteTime": {
     "end_time": "2024-02-16T22:29:37.563166Z",
     "start_time": "2024-02-16T22:29:37.508439Z"
    }
   },
   "outputs": [
    {
     "data": {
      "text/plain": [
       "Text(0, 0.5, 'counts')"
      ]
     },
     "execution_count": 8,
     "metadata": {},
     "output_type": "execute_result"
    },
    {
     "data": {
      "image/png": "[encoded data removed]",
      "text/plain": [
       "<Figure size 640x480 with 1 Axes>"
      ]
     },
     "metadata": {},
     "output_type": "display_data"
    }
   ],
   "source": [
    "# plot using Counter\n",
    "plt.bar(counts.keys(), counts.values())\n",
    "plt.xlabel('bitstrings')\n",
    "plt.ylabel('counts')"
   ]
  },
  {
   "cell_type": "markdown",
   "metadata": {},
   "source": [
    "As opposed to quantum hardware where only measurement shots can be obtained, with a classical simulator you can access the full state vector, amplitudes and expectation values of certain observables by assigning the corresponding result types. To do so, append the result types to the circuit before submitting it to run. This can be very useful for debugging. \n",
    "\n",
    "The example code below outputs the state vector. To reiterate, the following output is expected:\n",
    "$$\\left|\\mathrm{GHZ}\\right> = \\frac{1}{\\sqrt{2}}\\left(\\left|0,0,0\\right> + \\left|1,1,1\\right>\\right) = \\left[\\frac{1}{\\sqrt{2}},0,0,0,0,0,0,\\frac{1}{\\sqrt{2}}\\right].$$"
   ]
  },
  {
   "cell_type": "code",
   "execution_count": 9,
   "metadata": {
    "ExecuteTime": {
     "end_time": "2024-02-16T22:29:37.568260Z",
     "start_time": "2024-02-16T22:29:37.563881Z"
    }
   },
   "outputs": [
    {
     "name": "stdout",
     "output_type": "stream",
     "text": [
      "T  : |0|1|2|\n",
      "            \n",
      "q0 : -H-C---\n",
      "        |   \n",
      "q1 : ---X-C-\n",
      "          | \n",
      "q2 : -----X-\n",
      "\n",
      "T  : |0|1|2|\n",
      "\n",
      "Additional result types: StateVector\n"
     ]
    }
   ],
   "source": [
    "# define circuit\n",
    "n_qubits = 3\n",
    "ghz = ghz_circuit(n_qubits)      \n",
    "\n",
    "# add the state_vector ResultType\n",
    "ghz.state_vector()\n",
    "# print circuit including requested result types\n",
    "print(ghz)"
   ]
  },
  {
   "cell_type": "code",
   "execution_count": 10,
   "metadata": {
    "ExecuteTime": {
     "end_time": "2024-02-16T22:29:37.597339Z",
     "start_time": "2024-02-16T22:29:37.571087Z"
    }
   },
   "outputs": [
    {
     "name": "stdout",
     "output_type": "stream",
     "text": [
      "Final EXACT state vector:\n",
      " [(0.5309426784515381-0.46701160073280334j), 0j, 0j, 0j, 0j, 0j, 0j, (0.5309426784515381-0.46701160073280334j)]\n"
     ]
    }
   ],
   "source": [
    "# run the circuit and output the results\n",
    "task = device.run(ghz, shots=0)\n",
    "result = task.result()\n",
    "\n",
    "# print results\n",
    "print(\"Final EXACT state vector:\\n\", result.values[0])"
   ]
  },
  {
   "cell_type": "markdown",
   "metadata": {},
   "source": [
    "Clearly the expected results with perfect correlations between the three qubits making up the GHZ state are obtained.\n",
    "\n",
    "Note that you can only request state vector and amplitude when shots = 0 for a classical simulator. When shots > 0, you cannot access the full state vector, but you can get approximate expectation values as taken from measurement samples. Note that Amazon Braket also supports probability, sample, expectation, and variance as result types for QPU devices."
   ]
  },
  {
   "cell_type": "markdown",
   "metadata": {},
   "source": [
    "### The \"Special-Case\" Simulators"
   ]
  },
  {
   "cell_type": "markdown",
   "metadata": {},
   "source": [
    "Apart from the default optimal simulator, you can also run your circuit with optional \"layers\" designed for special cases.\n",
    "\n",
    "See the [PyQrack API Reference](https://pyqrack.readthedocs.io/en/latest/autoapi/pyqrack/qrack_simulator/index.html) for the full set of algorithm \"layer\" options, but three are of particular note:\n",
    "* Default optimal (no options)\n",
    "\n",
    "    This configuration includes all optimizations besides \"hybrid stabilizer\" and quantum binary decision diagrams simulation.\n",
    "* isStabilizerHybrid\n",
    "\n",
    "    To best utilize \"hybrid stabilizer,\" you will likely want to **disable** `isTensorNetwork` and `isSchmidtDecomposition`. (The hybrid stabilizer methods still contain and utilize certain \"Schmidt decomposition\" or \"state factorization\" optimizations, anyway.) This method _always_ allows fallback from pure-Clifford to general universal methods, if required. It also provides \"near-Clifford\" simulation, allowing Clifford circuits plus a few non-Clifford phase gates to be simulated.\n",
    "* isBinaryDecisionTree\n",
    "\n",
    "    Quantum binary decision diagram (QBDD) methods are CPU-only but parallelized for multiple CPU hyperthreads. In this case, QBDD methods are capable of simulating large GHZ states, for example, without running out of memory resources, but they are not nearly as fast at the task as hybrid stabilizer. However, QBDD would likely be the better choice if GHZ state preparation were only one subroutine in a larger quantum circuit with significant numbers of non-Clifford (\"non-stabilizer\") gates.\n",
    "\n",
    "To control the layer stack, pass PyQrack `QrackSimulator` constructor options as positional and keyword arguments to `run()`."
   ]
  },
  {
   "cell_type": "code",
   "execution_count": 11,
   "metadata": {
    "ExecuteTime": {
     "end_time": "2024-02-16T22:29:41.824828Z",
     "start_time": "2024-02-16T22:29:38.080631Z"
    }
   },
   "outputs": [
    {
     "name": "stdout",
     "output_type": "stream",
     "text": [
      "Counter({'111111111111111': 514, '000000000000000': 486})\n",
      "Counts for all-zero bitstring: 486\n",
      "Counts for all-one bitstring: 514\n"
     ]
    },
    {
     "data": {
      "image/png": "[encoded data removed]",
      "text/plain": [
       "<Figure size 640x480 with 1 Axes>"
      ]
     },
     "metadata": {},
     "output_type": "display_data"
    }
   ],
   "source": [
    "# define a 15-qubit GHZ circuit\n",
    "n_qubits = 15\n",
    "ghz = ghz_circuit(n_qubits)\n",
    "\n",
    "# run GHZ circuit on QBDD\n",
    "result = device.run(ghz, shots=1000, isBinaryDecisionTree=True).result()\n",
    "counts = result.measurement_counts\n",
    "print(counts)\n",
    "\n",
    "# plot using Counter\n",
    "plt.bar(counts.keys(), counts.values())\n",
    "plt.xlabel('bitstrings')\n",
    "plt.ylabel('counts')\n",
    "\n",
    "# print counts of all-zero-string\n",
    "print('Counts for all-zero bitstring:', counts['0'*n_qubits])\n",
    "# print counts of all-one-string\n",
    "print('Counts for all-one bitstring:', counts['1'*n_qubits])"
   ]
  },
  {
   "cell_type": "markdown",
   "metadata": {},
   "source": [
    "The following example demonstrates that Qrack can easily simulate GHZ circuits with up to (and past) 50 qubits."
   ]
  },
  {
   "cell_type": "code",
   "execution_count": 12,
   "metadata": {
    "ExecuteTime": {
     "end_time": "2024-02-16T22:29:51.337940Z",
     "start_time": "2024-02-16T22:29:41.967814Z"
    }
   },
   "outputs": [
    {
     "name": "stdout",
     "output_type": "stream",
     "text": [
      "Counter({'00000000000000000000000000000000000000000000000000': 527, '11111111111111111111111111111111111111111111111111': 473})\n",
      "Counts for all-zero bitstring: 527\n",
      "Counts for all-one bitstring: 473\n"
     ]
    }
   ],
   "source": [
    "# define a larger GHZ circuit\n",
    "n_qubits = 50\n",
    "ghz = ghz_circuit(n_qubits)\n",
    "\n",
    "# either one of these should work for 50 qubit GHZ states, with Qrack, but stabilizer will complete nearly instantaneously\n",
    "result = device.run(ghz, shots=1000, isStabilizerHybrid=True, isSchmidtDecompose=False, isTensorNetwork=False).result()\n",
    "# result = device.run(ghz, shots=1000, isBinaryDecisionTree=True).result()\n",
    "\n",
    "counts = result.measurement_counts\n",
    "print(counts)\n",
    "\n",
    "# print counts of all-zero-string\n",
    "print('Counts for all-zero bitstring:', counts['0'*n_qubits])\n",
    "# print counts of all-one-string\n",
    "print('Counts for all-one bitstring:', counts['1'*n_qubits])"
   ]
  },
  {
   "cell_type": "code",
   "execution_count": 13,
   "metadata": {
    "ExecuteTime": {
     "end_time": "2024-02-16T22:29:51.434236Z",
     "start_time": "2024-02-16T22:29:51.342882Z"
    }
   },
   "outputs": [
    {
     "name": "stdout",
     "output_type": "stream",
     "text": [
      "Quantum Task Summary\n",
      "{}\n",
      "Note: Charges shown are estimates based on your Amazon Braket simulator and quantum processing unit (QPU) task usage. Estimated charges shown may differ from your actual charges. Estimated charges do not factor in any discounts or credits, and you may experience additional charges based on your use of other services such as Amazon Elastic Compute Cloud (Amazon EC2).\n",
      "Estimated cost to run this example: 0.00 USD\n"
     ]
    }
   ],
   "source": [
    "print(\"Quantum Task Summary\")\n",
    "print(t.quantum_tasks_statistics())\n",
    "print('Note: Charges shown are estimates based on your Amazon Braket simulator and quantum processing unit (QPU) task usage. Estimated charges shown may differ from your actual charges. Estimated charges do not factor in any discounts or credits, and you may experience additional charges based on your use of other services such as Amazon Elastic Compute Cloud (Amazon EC2).')\n",
    "print(f\"Estimated cost to run this example: {t.qpu_tasks_cost() + t.simulator_tasks_cost():.2f} USD\")"
   ]
  }
 ],
 "metadata": {
  "kernelspec": {
   "display_name": "Python 3 (ipykernel)",
   "language": "python",
   "name": "python3"
  },
  "language_info": {
   "codemirror_mode": {
    "name": "ipython",
    "version": 3
   },
   "file_extension": ".py",
   "mimetype": "text/x-python",
   "name": "python",
   "nbconvert_exporter": "python",
   "pygments_lexer": "ipython3",
   "version": "3.10.12"
  },
  "vscode": {
   "interpreter": {
    "hash": "590fab68195cf107911461461f81d5c472d3d6127f579badfcfad30f03e5cab2"
   }
  }
 },
 "nbformat": 4,
 "nbformat_minor": 4
}
